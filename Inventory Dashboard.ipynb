{
 "cells": [
  {
   "cell_type": "code",
   "execution_count": 1,
   "id": "3ab3176b-c4e6-4a9c-ad58-460f4f79f916",
   "metadata": {},
   "outputs": [],
   "source": [
    "import dash\n",
    "from dash import dcc, html\n",
    "import pandas as pd\n",
    "import plotly.express as px\n",
    "import plotly.graph_objs as go"
   ]
  },
  {
   "cell_type": "code",
   "execution_count": 2,
   "id": "7a261e7f-bfb3-453c-8b3f-4e7b24d128a2",
   "metadata": {},
   "outputs": [],
   "source": [
    "# Load the dataset\n",
    "df = pd.read_csv('inventory_data.csv')"
   ]
  },
  {
   "cell_type": "code",
   "execution_count": 3,
   "id": "3e29e793-e65a-4656-b75f-ef1b35704f0e",
   "metadata": {},
   "outputs": [
    {
     "data": {
      "text/html": [
       "<div>\n",
       "<style scoped>\n",
       "    .dataframe tbody tr th:only-of-type {\n",
       "        vertical-align: middle;\n",
       "    }\n",
       "\n",
       "    .dataframe tbody tr th {\n",
       "        vertical-align: top;\n",
       "    }\n",
       "\n",
       "    .dataframe thead th {\n",
       "        text-align: right;\n",
       "    }\n",
       "</style>\n",
       "<table border=\"1\" class=\"dataframe\">\n",
       "  <thead>\n",
       "    <tr style=\"text-align: right;\">\n",
       "      <th></th>\n",
       "      <th>Item ID</th>\n",
       "      <th>Item Name</th>\n",
       "      <th>Category</th>\n",
       "      <th>Quantity in Stock</th>\n",
       "      <th>Price per Unit</th>\n",
       "      <th>Supplier</th>\n",
       "      <th>Date Added</th>\n",
       "    </tr>\n",
       "  </thead>\n",
       "  <tbody>\n",
       "    <tr>\n",
       "      <th>0</th>\n",
       "      <td>101</td>\n",
       "      <td>iPhone 13</td>\n",
       "      <td>Electronics</td>\n",
       "      <td>50</td>\n",
       "      <td>799.99</td>\n",
       "      <td>Apple Inc.</td>\n",
       "      <td>2023-01-15</td>\n",
       "    </tr>\n",
       "    <tr>\n",
       "      <th>1</th>\n",
       "      <td>102</td>\n",
       "      <td>Samsung Galaxy S21</td>\n",
       "      <td>Electronics</td>\n",
       "      <td>30</td>\n",
       "      <td>699.99</td>\n",
       "      <td>Samsung Electronics</td>\n",
       "      <td>2023-02-10</td>\n",
       "    </tr>\n",
       "    <tr>\n",
       "      <th>2</th>\n",
       "      <td>103</td>\n",
       "      <td>HP Pavilion Laptop</td>\n",
       "      <td>Electronics</td>\n",
       "      <td>20</td>\n",
       "      <td>899.99</td>\n",
       "      <td>Hewlett-Packard</td>\n",
       "      <td>2023-03-05</td>\n",
       "    </tr>\n",
       "    <tr>\n",
       "      <th>3</th>\n",
       "      <td>104</td>\n",
       "      <td>LEGO Star Wars Millennium Falcon</td>\n",
       "      <td>Toys &amp; Games</td>\n",
       "      <td>40</td>\n",
       "      <td>149.99</td>\n",
       "      <td>LEGO Group</td>\n",
       "      <td>2023-04-20</td>\n",
       "    </tr>\n",
       "    <tr>\n",
       "      <th>4</th>\n",
       "      <td>105</td>\n",
       "      <td>Adidas UltraBoost 21 Running Shoes</td>\n",
       "      <td>Apparel</td>\n",
       "      <td>60</td>\n",
       "      <td>129.99</td>\n",
       "      <td>Adidas</td>\n",
       "      <td>2023-05-12</td>\n",
       "    </tr>\n",
       "  </tbody>\n",
       "</table>\n",
       "</div>"
      ],
      "text/plain": [
       "   Item ID                           Item Name      Category  \\\n",
       "0      101                           iPhone 13   Electronics   \n",
       "1      102                  Samsung Galaxy S21   Electronics   \n",
       "2      103                  HP Pavilion Laptop   Electronics   \n",
       "3      104    LEGO Star Wars Millennium Falcon  Toys & Games   \n",
       "4      105  Adidas UltraBoost 21 Running Shoes       Apparel   \n",
       "\n",
       "   Quantity in Stock  Price per Unit             Supplier  Date Added  \n",
       "0                 50          799.99           Apple Inc.  2023-01-15  \n",
       "1                 30          699.99  Samsung Electronics  2023-02-10  \n",
       "2                 20          899.99      Hewlett-Packard  2023-03-05  \n",
       "3                 40          149.99           LEGO Group  2023-04-20  \n",
       "4                 60          129.99               Adidas  2023-05-12  "
      ]
     },
     "execution_count": 3,
     "metadata": {},
     "output_type": "execute_result"
    }
   ],
   "source": [
    "df.head()"
   ]
  },
  {
   "cell_type": "code",
   "execution_count": 4,
   "id": "054294db-bab6-4988-a441-2e2629134b9b",
   "metadata": {},
   "outputs": [],
   "source": [
    "# Define a custom color palette for the pie chart\n",
    "custom_colors = ['#1f77b4', '#ff7f0e', '#2ca02c', '#d62728', '#9467bd', '#8c564b', '#e377c2', '#7f7f7f', '#bcbd22', '#17becf']"
   ]
  },
  {
   "cell_type": "code",
   "execution_count": 5,
   "id": "35a5dda5-2283-431c-a5fb-15cc703a331f",
   "metadata": {},
   "outputs": [],
   "source": [
    "pie_cat = px.pie(df, names='Category', title='Inventory by Category', color='Category', color_discrete_sequence=custom_colors)\n",
    "pie_cat.update_layout(plot_bgcolor='rgba(0,0,0,0)', paper_bgcolor = 'rgba(0,0,0,0)', font={'color': 'white'});"
   ]
  },
  {
   "cell_type": "code",
   "execution_count": 6,
   "id": "56d2574f-31a0-4bea-8fe3-33c82837a1b9",
   "metadata": {},
   "outputs": [],
   "source": [
    "# Define a function to abbreviate large numbers to 'k'\n",
    "def abbreviate_number(number):\n",
    "    if number >= 10**6:  # If the number is a million or greater\n",
    "        return f'${number / 10**6:.2f}M'  # Abbreviate to millions with two decimal places\n",
    "    elif number >= 10**3:  # If the number is a thousand or greater\n",
    "        return f'${number / 10**3:.2f}k'  # Abbreviate to thousands with two decimal places\n",
    "    else:\n",
    "        return f'${number}'  # No abbreviation needed for smaller numbers"
   ]
  },
  {
   "cell_type": "code",
   "execution_count": 7,
   "id": "bd605f95-5bb0-49e2-a64d-0dbf8ad8b4c6",
   "metadata": {},
   "outputs": [],
   "source": [
    "# Define a function to create a mini trend chart with a neon glow and shadow\n",
    "def create_mini_trend_chart(data, color):\n",
    "    return dcc.Graph(\n",
    "        config={'displayModeBar': False},\n",
    "        style={'height': '130px', 'width': '130px'},  # Apply box-shadow for the neon glow\n",
    "        figure=go.Figure(\n",
    "            data=[\n",
    "                go.Scatter(x=list(range(len(data))), y=data, mode='lines', showlegend=False,\n",
    "                           line=dict(color=color, width=2), fill='toself', opacity=0.7)  # Adjust color and width as needed\n",
    "            ],\n",
    "            layout={\n",
    "                'plot_bgcolor': 'rgba(0,0,0,0)',\n",
    "                'paper_bgcolor': 'rgba(0,0,0,0)',\n",
    "                'font': {'color': 'white'},\n",
    "                'xaxis': {'visible': False},  # Hide x-axis\n",
    "                'yaxis': {'visible': False},  # Hide y-axis\n",
    "                'margin': {'t': 0, 'b': 0, 'l': 0, 'r': 0},\n",
    "            }\n",
    "        )\n",
    "    )"
   ]
  },
  {
   "cell_type": "code",
   "execution_count": 8,
   "id": "cc0a39f8-cf51-4ad4-8b66-5f153df2269e",
   "metadata": {},
   "outputs": [],
   "source": [
    "# Create the Dash app\n",
    "app = dash.Dash(__name__, suppress_callback_exceptions=True)"
   ]
  },
  {
   "cell_type": "code",
   "execution_count": 9,
   "id": "0d7e7af3-fca1-4894-8778-70268634d06e",
   "metadata": {},
   "outputs": [],
   "source": [
    "cat_group = df.groupby('Category')['Quantity in Stock'].sum()"
   ]
  },
  {
   "cell_type": "code",
   "execution_count": 12,
   "id": "e511864b-bd7b-4000-99bd-31e21b97b4a0",
   "metadata": {},
   "outputs": [],
   "source": [
    "# Define the app layout\n",
    "app.layout = html.Div([\n",
    "    html.H1(\"Inventory Dashboard\", style={'color': 'white', 'margin': '0'}),\n",
    "    \n",
    "    # Card for Quantity in Stock\n",
    "    html.Div([\n",
    "\n",
    "        html.Div([\n",
    "            html.Div([\n",
    "                html.H2(\"Quantity in Stock\", style={'color': 'white'}),\n",
    "                html.H3(\"1,234\", style={'color': '#488cfa'}, className=\"num_display\"),  # Replace with actual data\n",
    "                html.P(\"Last updated: 2023-09-21\", style={'color': 'white'}),\n",
    "            ],),\n",
    "\n",
    "            html.Div([\n",
    "                create_mini_trend_chart([10, 12, 8, 14, 9], '#488cfa'),  # Include the mini trend chart within the card\n",
    "            ]),\n",
    "        ], className='card card-graph'),\n",
    "\n",
    "        html.Div([\n",
    "            html.Div([\n",
    "                html.H2(\"Bills to Pay\", style={'color': 'white'}),\n",
    "                html.H3(\"$123.45\", style={'color': 'red'}, className=\"num_display\"),  # Replace with actual data\n",
    "                html.P(\"Last updated: 2023-09-21\", style={'color': 'white'}),\n",
    "            ],),\n",
    "\n",
    "            html.Div([\n",
    "                create_mini_trend_chart([10, 12, 8, 14, 9], 'red'),  # Include the mini trend chart within the card\n",
    "            ]),\n",
    "        ], className='card card-graph'),\n",
    "\n",
    "        html.Div([\n",
    "            html.Div([\n",
    "                html.H2(\"Sales Revenue\", style={'color': 'white'}),\n",
    "                html.H3(abbreviate_number(456789.00), style={'color': 'green'}, className=\"num_display\"),  # Replace with actual data\n",
    "                html.P(\"Last updated: 2023-09-21\", style={'color': 'white'}),\n",
    "                ],),\n",
    "\n",
    "            html.Div([\n",
    "                create_mini_trend_chart([10, 12, 8, 14, 9], 'green'),  # Include the mini trend chart within the card\n",
    "            ]),\n",
    "        ], className='card card-graph'),\n",
    "    ], className=\"card-container\"),\n",
    "\n",
    "    html.Div([\n",
    "       # Data Table\n",
    "        dcc.Graph(\n",
    "            id='data-table',\n",
    "            config={'displayModeBar': False},\n",
    "            figure={\n",
    "                'data': [\n",
    "                    {'x': cat_group.index, 'y': cat_group.values, 'type': 'bar', 'name': 'Quantity in Stock'}\n",
    "                ],\n",
    "                'layout': {\n",
    "                    'title': 'Inventory Summary',\n",
    "                    'xaxis': {'title': 'Category', 'showgrid': False},  # Change x-axis label to 'Category'\n",
    "                    'yaxis': {'title': 'Quantity in Stock', 'showgrid': False},\n",
    "                    'plot_bgcolor': 'rgba(0,0,0,0)',\n",
    "                    'paper_bgcolor': 'rgba(0,0,0,0)',\n",
    "                    'font': {'color': 'white'},\n",
    "                }\n",
    "            }\n",
    "        ),\n",
    "\n",
    "        # Pie chart\n",
    "        dcc.Graph(\n",
    "            id='category-pie',\n",
    "            config={'displayModeBar': False},\n",
    "            figure=pie_cat  # Use 'Category' for color\n",
    "        ) \n",
    "    ], className=\"card-container\"),\n",
    "])"
   ]
  },
  {
   "cell_type": "code",
   "execution_count": 13,
   "id": "efe621ba-d628-4865-8050-a65293489ba1",
   "metadata": {},
   "outputs": [
    {
     "name": "stdout",
     "output_type": "stream",
     "text": [
      "Dash app running on http://127.0.0.1:8050/\n"
     ]
    },
    {
     "data": {
      "application/javascript": [
       "window.open('http://127.0.0.1:8050/')"
      ],
      "text/plain": [
       "<IPython.core.display.Javascript object>"
      ]
     },
     "metadata": {},
     "output_type": "display_data"
    }
   ],
   "source": [
    "if __name__ == '__main__':\n",
    "    app.run(jupyter_mode=\"tab\")"
   ]
  },
  {
   "cell_type": "code",
   "execution_count": null,
   "id": "06bd802f-66cc-4cb2-a117-38f96d6e80d9",
   "metadata": {},
   "outputs": [],
   "source": []
  }
 ],
 "metadata": {
  "kernelspec": {
   "display_name": "Python 3 (ipykernel)",
   "language": "python",
   "name": "python3"
  },
  "language_info": {
   "codemirror_mode": {
    "name": "ipython",
    "version": 3
   },
   "file_extension": ".py",
   "mimetype": "text/x-python",
   "name": "python",
   "nbconvert_exporter": "python",
   "pygments_lexer": "ipython3",
   "version": "3.11.4"
  }
 },
 "nbformat": 4,
 "nbformat_minor": 5
}
